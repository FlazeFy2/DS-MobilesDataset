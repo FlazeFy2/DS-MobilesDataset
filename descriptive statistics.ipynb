{
 "cells": [
  {
   "cell_type": "code",
   "execution_count": 7,
   "id": "d65dbd6e-3f9f-4772-98c3-5f679ae08e34",
   "metadata": {},
   "outputs": [
    {
     "name": "stdout",
     "output_type": "stream",
     "text": [
      "Max of Launched Year : 2025\n",
      "Min of Launched Year : 2014\n",
      "Range of Launched Year : 11\n",
      "Mean of Launched Year : 2022.19\n",
      "Mode of Launched Year : 2024\n",
      "Variance of Launched Year : 3.47\n",
      "Standard Deviance of Launched Year : 1.86\n",
      "\n"
     ]
    }
   ],
   "source": [
    "import pandas as pd\n",
    "import statistics\n",
    "import numpy as np\n",
    "\n",
    "# Declaration\n",
    "data = pd.read_csv(\"Mobiles Dataset (2025).csv\", encoding=\"ISO-8859-1\")\n",
    "\n",
    "target_col = ['Launched Year']\n",
    "\n",
    "for dt in target_col:\n",
    "    # Convert to int\n",
    "    data[dt] = pd.to_numeric(data[dt], errors='coerce')\n",
    "    \n",
    "    # Remove NaN\n",
    "    data = data.dropna(subset=[dt])\n",
    "\n",
    "    max_val = data[dt].max()\n",
    "    min_val = data[dt].min()\n",
    "    range_val = max_val - min_val\n",
    "    mean = round(data[dt].mean(),2)\n",
    "    mode = round(statistics.mode(data[dt]),2)\n",
    "    var = round(np.nanvar(data[dt],ddof=1),2)\n",
    "    std = round(var ** 0.5,2)\n",
    "\n",
    "    print(f\"Max of {dt.title()} : {max_val}\")\n",
    "    print(f\"Min of {dt.title()} : {min_val}\")\n",
    "    print(f\"Range of {dt.title()} : {range_val}\")\n",
    "    print(f\"Mean of {dt.title()} : {mean}\")\n",
    "    print(f\"Mode of {dt.title()} : {mode}\")\n",
    "    print(f\"Variance of {dt.title()} : {var}\")\n",
    "    print(f\"Standard Deviance of {dt.title()} : {std}\\n\")"
   ]
  },
  {
   "cell_type": "code",
   "execution_count": 9,
   "id": "244905a1-dac0-4df3-9700-cb18e2103621",
   "metadata": {},
   "outputs": [
    {
     "name": "stdout",
     "output_type": "stream",
     "text": [
      "   Company Name              Model Name  Launched Year  Launched Price (USA)\n",
      "0         Apple    iPad Pro 13-inch 2TB           2020                1799.0\n",
      "1        Google  Pixel 9 Pro Fold 512GB           2024                1799.0\n",
      "2         Honor                Magic V2           2024                1899.0\n",
      "3        Huawei           Mate XT 512GB           2024                2799.0\n",
      "4       Infinix                Xpad Pro           2024                 549.0\n",
      "5        Lenovo        Legion Y70 512GB           2022                 599.0\n",
      "6      Motorola    Moto X50 Ultra 512GB           2024                1499.0\n",
      "7         Nokia                     T21           2022               39622.0\n",
      "8       OnePlus      OnePlus Open 256GB           2024                1099.0\n",
      "9          Oppo           Find N3 512GB           2023                1399.0\n",
      "10         POCO            F6 Pro 256GB           2024                 549.0\n",
      "11         Poco            Pad 5G 256GB           2024                 300.0\n",
      "12       Realme          GT 7 Pro 256GB           2024                 500.0\n",
      "13      Samsung      Galaxy Z Fold6 1TB           2024                2259.0\n",
      "14         Sony       Xperia 1 VI 256GB           2024                1799.0\n",
      "15        Tecno   Phantom V Fold2 512GB           2024                1799.0\n",
      "16         Vivo          X200 Pro 512GB           2024                1299.0\n",
      "17       Xiaomi       Xiaomi 15 Pro 1TB           2024                 999.0\n",
      "18         iQOO         Pad 2 Pro 256GB           2024                 449.0\n"
     ]
    }
   ],
   "source": [
    "import pandas as pd\n",
    "import statistics\n",
    "import numpy as np\n",
    "\n",
    "# Descriptive Statistic - The Most Expensive Mobile Device per Merk\n",
    "data = pd.read_csv(\"Mobiles Dataset (2025).csv\", encoding=\"ISO-8859-1\")\n",
    "\n",
    "# Clean the Data\n",
    "data['Launched Price (USA)'] = (\n",
    "    data['Launched Price (USA)'].str.replace('USD', '', regex=False).str.replace(',', '', regex=False).str.strip().astype(float)\n",
    ")\n",
    "\n",
    "# Find the Max Value\n",
    "idx = data.groupby('Company Name')['Launched Price (USA)'].idxmax()\n",
    "result = data.loc[idx, ['Company Name', 'Model Name', 'Launched Year', 'Launched Price (USA)']]\n",
    "res = result.reset_index(drop=True)\n",
    "\n",
    "print(res)"
   ]
  },
  {
   "cell_type": "code",
   "execution_count": 11,
   "id": "40dc5265-c117-4114-bb05-3efeff6b6c18",
   "metadata": {},
   "outputs": [
    {
     "name": "stdout",
     "output_type": "stream",
     "text": [
      "   Company Name                 Model Name  Launched Year  Battery Capacity\n",
      "0         Apple     iPad Pro 13-inch 128GB           2020           10307.0\n",
      "1        Google     Pixel 9 Pro Fold 512GB           2024            5500.0\n",
      "2         Honor                 MagicPad 2           2024           10500.0\n",
      "3        Huawei     MatePad Pro 12.2 512GB           2024           10100.0\n",
      "4       Infinix                   Xpad Pro           2024            9000.0\n",
      "5        Lenovo           Legion Y70 128GB           2022            5100.0\n",
      "6      Motorola       Edge 50 Fusion 128GB           2024            5000.0\n",
      "7         Nokia                        T21           2022            8200.0\n",
      "8       OnePlus            OnePlus Pad Pro           2024           11000.0\n",
      "9          Oppo                Pad 3 128GB           2024            9510.0\n",
      "10         POCO                    M3 64GB           2020            6000.0\n",
      "11         Poco               Pad 5G 128GB           2024           10000.0\n",
      "12       Realme                Pad 2 128GB           2023            8360.0\n",
      "13      Samsung  Galaxy Tab S9 Ultra 256GB           2023           11200.0\n",
      "14         Sony          Xperia 1 IV 256GB           2022            5000.0\n",
      "15        Tecno           Megapad 11 256GB           2024            8000.0\n",
      "16         Vivo                  Pad 128GB           2022            8040.0\n",
      "17       Xiaomi        Xiaomi 15 Pro 256GB           2024            6100.0\n",
      "18         iQOO                  Pad 128GB           2023            8040.0\n"
     ]
    }
   ],
   "source": [
    "import pandas as pd\n",
    "import statistics\n",
    "import numpy as np\n",
    "\n",
    "# Descriptive Statistic - Mobile Device With Highest Battery Capacity per Merk\n",
    "data = pd.read_csv(\"Mobiles Dataset (2025).csv\", encoding=\"ISO-8859-1\")\n",
    "\n",
    "# Clean the Data\n",
    "data['Battery Capacity'] = (\n",
    "    data['Battery Capacity'].str.replace('mAh', '', regex=False).str.replace(',', '', regex=False).str.strip().astype(float)\n",
    ")\n",
    "\n",
    "# Find the Max Value\n",
    "idx = data.groupby('Company Name')['Battery Capacity'].idxmax()\n",
    "result = data.loc[idx, ['Company Name', 'Model Name', 'Launched Year', 'Battery Capacity']]\n",
    "res = result.reset_index(drop=True)\n",
    "\n",
    "print(res)"
   ]
  },
  {
   "cell_type": "code",
   "execution_count": 1,
   "id": "17a98a93-653d-40ae-bf89-0d37c4aca1cf",
   "metadata": {},
   "outputs": [
    {
     "name": "stdout",
     "output_type": "stream",
     "text": [
      "   Company Name                 Model Name  Launched Year  Mobile Weight\n",
      "0         Apple     iPad Pro 13-inch 128GB           2020          708.0\n",
      "1        Google     Pixel 9 Pro Fold 512GB           2024          250.0\n",
      "2         Honor                 Pad GT Pro           2024          610.0\n",
      "3        Huawei     MatePad Pro 13.2 512GB           2024          580.0\n",
      "4       Infinix                   Xpad Pro           2024          480.0\n",
      "5        Lenovo                Z5 Pro 64GB           2018          210.0\n",
      "6      Motorola          Moto G Power 64GB           2022          206.0\n",
      "7         Nokia                        T21           2022          466.0\n",
      "8       OnePlus            OnePlus Pad Pro           2024          610.0\n",
      "9          Oppo            Pad 3 Pro 256GB           2024          586.0\n",
      "10         POCO               F2 Pro 128GB           2020          219.0\n",
      "11         Poco               Pad 5G 128GB           2024          571.0\n",
      "12       Realme                 Pad X 64GB           2022          499.0\n",
      "13      Samsung  Galaxy Tab S9 Ultra 256GB           2023          732.0\n",
      "14         Sony          Xperia 1 VI 256GB           2024          190.0\n",
      "15        Tecno           Megapad 11 256GB           2024          450.0\n",
      "16         Vivo            Pad 4 Pro 256GB           2024          560.0\n",
      "17       Xiaomi        Xiaomi 15 Pro 256GB           2024          210.0\n",
      "18         iQOO            Pad 2 Pro 256GB           2024          555.0\n"
     ]
    }
   ],
   "source": [
    "import pandas as pd\n",
    "import statistics\n",
    "import numpy as np\n",
    "\n",
    "# Descriptive Statistic - Mobile Device With Highest Mobile Weight per Merk\n",
    "data = pd.read_csv(\"Mobiles Dataset (2025).csv\", encoding=\"ISO-8859-1\")\n",
    "\n",
    "# Clean the Data\n",
    "data['Mobile Weight'] = (\n",
    "    data['Mobile Weight'].str.replace('g', '', regex=False).str.replace(',', '', regex=False).str.strip().astype(float)\n",
    ")\n",
    "\n",
    "# Find the Max Value\n",
    "idx = data.groupby('Company Name')['Mobile Weight'].idxmax()\n",
    "result = data.loc[idx, ['Company Name', 'Model Name', 'Launched Year', 'Mobile Weight']]\n",
    "res = result.reset_index(drop=True)\n",
    "\n",
    "print(res)"
   ]
  },
  {
   "cell_type": "code",
   "execution_count": null,
   "id": "bc807af5-e46b-429d-ac2f-84b3c68b2a1e",
   "metadata": {},
   "outputs": [],
   "source": []
  }
 ],
 "metadata": {
  "kernelspec": {
   "display_name": "Python [conda env:base] *",
   "language": "python",
   "name": "conda-base-py"
  },
  "language_info": {
   "codemirror_mode": {
    "name": "ipython",
    "version": 3
   },
   "file_extension": ".py",
   "mimetype": "text/x-python",
   "name": "python",
   "nbconvert_exporter": "python",
   "pygments_lexer": "ipython3",
   "version": "3.12.7"
  }
 },
 "nbformat": 4,
 "nbformat_minor": 5
}
