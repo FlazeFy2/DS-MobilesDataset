{
 "cells": [
  {
   "cell_type": "code",
   "execution_count": 10,
   "id": "61908405-4b4d-4100-98b3-647d0f64de48",
   "metadata": {},
   "outputs": [
    {
     "name": "stdout",
     "output_type": "stream",
     "text": [
      "Company Name                 object\n",
      "Model Name                   object\n",
      "Mobile Weight                object\n",
      "RAM                          object\n",
      "Front Camera                 object\n",
      "Back Camera                  object\n",
      "Processor                    object\n",
      "Battery Capacity             object\n",
      "Screen Size                  object\n",
      "Launched Price (Pakistan)    object\n",
      "Launched Price (India)       object\n",
      "Launched Price (China)       object\n",
      "Launched Price (USA)         object\n",
      "Launched Price (Dubai)       object\n",
      "Launched Year                 int64\n",
      "dtype: object\n",
      "\n",
      "\n",
      "15 Column\n"
     ]
    }
   ],
   "source": [
    "import pandas as pd\n",
    "import matplotlib.pyplot as plt\n",
    "import numpy as np\n",
    "\n",
    "df = pd.read_csv(\"Mobiles Dataset (2025).csv\", encoding=\"ISO-8859-1\")\n",
    "\n",
    "# Data Understanding - Variable & Data Type\n",
    "print(df.dtypes)\n",
    "print(\"\\n\")\n",
    "print(f\"{len(df.columns)} Column\")"
   ]
  },
  {
   "cell_type": "code",
   "execution_count": 12,
   "id": "b3d8b155-8fd1-4cd3-87a4-03f7c57c866e",
   "metadata": {},
   "outputs": [
    {
     "data": {
      "text/plain": [
       "Company Name                 0\n",
       "Model Name                   0\n",
       "Mobile Weight                0\n",
       "RAM                          0\n",
       "Front Camera                 0\n",
       "Back Camera                  0\n",
       "Processor                    0\n",
       "Battery Capacity             0\n",
       "Screen Size                  0\n",
       "Launched Price (Pakistan)    0\n",
       "Launched Price (India)       0\n",
       "Launched Price (China)       0\n",
       "Launched Price (USA)         0\n",
       "Launched Price (Dubai)       0\n",
       "Launched Year                0\n",
       "dtype: int64"
      ]
     },
     "execution_count": 12,
     "metadata": {},
     "output_type": "execute_result"
    }
   ],
   "source": [
    "# Data Preparation - Handle Missing Value\n",
    "df.isnull().sum()"
   ]
  },
  {
   "cell_type": "code",
   "execution_count": 14,
   "id": "7e9fa8fb-534e-4fb8-b3c5-4ba091b7731d",
   "metadata": {},
   "outputs": [
    {
     "data": {
      "text/html": [
       "<div>\n",
       "<style scoped>\n",
       "    .dataframe tbody tr th:only-of-type {\n",
       "        vertical-align: middle;\n",
       "    }\n",
       "\n",
       "    .dataframe tbody tr th {\n",
       "        vertical-align: top;\n",
       "    }\n",
       "\n",
       "    .dataframe thead th {\n",
       "        text-align: right;\n",
       "    }\n",
       "</style>\n",
       "<table border=\"1\" class=\"dataframe\">\n",
       "  <thead>\n",
       "    <tr style=\"text-align: right;\">\n",
       "      <th></th>\n",
       "      <th>Launched Year</th>\n",
       "    </tr>\n",
       "  </thead>\n",
       "  <tbody>\n",
       "    <tr>\n",
       "      <th>count</th>\n",
       "      <td>930.000000</td>\n",
       "    </tr>\n",
       "    <tr>\n",
       "      <th>mean</th>\n",
       "      <td>2022.193548</td>\n",
       "    </tr>\n",
       "    <tr>\n",
       "      <th>std</th>\n",
       "      <td>1.862080</td>\n",
       "    </tr>\n",
       "    <tr>\n",
       "      <th>min</th>\n",
       "      <td>2014.000000</td>\n",
       "    </tr>\n",
       "    <tr>\n",
       "      <th>25%</th>\n",
       "      <td>2021.000000</td>\n",
       "    </tr>\n",
       "    <tr>\n",
       "      <th>50%</th>\n",
       "      <td>2023.000000</td>\n",
       "    </tr>\n",
       "    <tr>\n",
       "      <th>75%</th>\n",
       "      <td>2024.000000</td>\n",
       "    </tr>\n",
       "    <tr>\n",
       "      <th>max</th>\n",
       "      <td>2025.000000</td>\n",
       "    </tr>\n",
       "  </tbody>\n",
       "</table>\n",
       "</div>"
      ],
      "text/plain": [
       "       Launched Year\n",
       "count     930.000000\n",
       "mean     2022.193548\n",
       "std         1.862080\n",
       "min      2014.000000\n",
       "25%      2021.000000\n",
       "50%      2023.000000\n",
       "75%      2024.000000\n",
       "max      2025.000000"
      ]
     },
     "execution_count": 14,
     "metadata": {},
     "output_type": "execute_result"
    }
   ],
   "source": [
    "# Data Understanding - Descriptive Statistic\n",
    "df.describe()"
   ]
  },
  {
   "cell_type": "code",
   "execution_count": 18,
   "id": "68e63d52-1a67-4f8e-a38d-d6fdb87d5d14",
   "metadata": {},
   "outputs": [
    {
     "data": {
      "image/png": "[encoded data removed]",
      "text/plain": [
       "<Figure size 640x480 with 1 Axes>"
      ]
     },
     "metadata": {},
     "output_type": "display_data"
    }
   ],
   "source": [
    "# Data Preparation - Outliers\n",
    "ratio_column = ['Launched Year']\n",
    "\n",
    "for dt in ratio_column:\n",
    "    df[dt] = pd.to_numeric(df[dt].replace(\"?\", np.nan), errors='coerce')\n",
    "\n",
    "for dt in ratio_column:\n",
    "    clean_data = df[dt].dropna()  \n",
    "    if not clean_data.empty:  \n",
    "        plt.boxplot(clean_data)\n",
    "        plt.title(f'Boxplot of {dt}')\n",
    "        plt.show()\n",
    "    else:\n",
    "        print(f\"No valid data for {dt} to create a boxplot\")"
   ]
  },
  {
   "cell_type": "code",
   "execution_count": null,
   "id": "d0ca9e60-1656-439d-9726-2241b993a474",
   "metadata": {},
   "outputs": [],
   "source": []
  }
 ],
 "metadata": {
  "kernelspec": {
   "display_name": "Python [conda env:base] *",
   "language": "python",
   "name": "conda-base-py"
  },
  "language_info": {
   "codemirror_mode": {
    "name": "ipython",
    "version": 3
   },
   "file_extension": ".py",
   "mimetype": "text/x-python",
   "name": "python",
   "nbconvert_exporter": "python",
   "pygments_lexer": "ipython3",
   "version": "3.12.7"
  }
 },
 "nbformat": 4,
 "nbformat_minor": 5
}
